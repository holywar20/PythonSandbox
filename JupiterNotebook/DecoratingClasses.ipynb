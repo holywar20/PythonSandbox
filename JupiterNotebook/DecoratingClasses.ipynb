{
 "cells": [
  {
   "cell_type": "code",
   "execution_count": 3,
   "metadata": {},
   "outputs": [
    {
     "name": "stdout",
     "output_type": "stream",
     "text": [
      "False True\n"
     ]
    }
   ],
   "source": [
    "# This is called 'Monkey Patching.' We can add to the Fraction class various functions.\n",
    "# in this case we added an is_integral() function call check\n",
    "from fractions import Fraction\n",
    "\n",
    "Fraction.is_integral = lambda self: self.denominator == 1\n",
    "\n",
    "f1 = Fraction( 2,  3)\n",
    "f2 = Fraction( 64 , 8 )\n",
    "\n",
    "print( f1.is_integral() , f2.is_integral() ) "
   ]
  },
  {
   "cell_type": "code",
   "execution_count": 7,
   "metadata": {},
   "outputs": [
    {
     "data": {
      "text/plain": [
       "'Ok, Im dead now'"
      ]
     },
     "execution_count": 7,
     "metadata": {},
     "output_type": "execute_result"
    }
   ],
   "source": [
    "# Decorated the fraction class with dec_speak\n",
    "\n",
    "def dec_speak( cls ):\n",
    "    cls.speak = lambda self, message: '{0} says {1}'.format( self.__class__.__name__ , message )\n",
    "    cls.die = lambda self :'Ok, Im dead now'\n",
    "    \n",
    "    return cls\n",
    "\n",
    "Fraction = dec_speak(Fraction)\n",
    "\n",
    "f1 = Fraction(2, 3)\n",
    "f1.die()"
   ]
  },
  {
   "cell_type": "code",
   "execution_count": 8,
   "metadata": {},
   "outputs": [
    {
     "data": {
      "text/plain": [
       "'Fraction says Die in a fire'"
      ]
     },
     "execution_count": 8,
     "metadata": {},
     "output_type": "execute_result"
    }
   ],
   "source": [
    "f1.speak(\"Die in a fire\")"
   ]
  },
  {
   "cell_type": "code",
   "execution_count": 22,
   "metadata": {},
   "outputs": [
    {
     "name": "stdout",
     "output_type": "stream",
     "text": [
      "Hello!\n"
     ]
    }
   ],
   "source": [
    "# Using a function to decorate a class.\n",
    "\n",
    "from datetime import datetime\n",
    "\n",
    "\n",
    "def debug_info( cls ): \n",
    "    def info( self ):\n",
    "        results = []\n",
    "        results.append(\"time: {0}\".format( datetime.now ) )\n",
    "        results.append(\"id : {0}\".format( hex( id( self ) ) ) )\n",
    "\n",
    "        for key, value in vars(self).items():\n",
    "            results.append(\"{0} L {1}\".format( key, value ) )\n",
    "        return results\n",
    "    \n",
    "    cls.debug = info\n",
    "    \n",
    "    return cls\n",
    "\n",
    "# Person = debug_info( Person )\n",
    "# NOTE : The decorator is actually syntactic sugar for the long form above\n",
    "@debug_info\n",
    "class Person:\n",
    "    def __init__( self, name , birth_year ):\n",
    "        self.name = name\n",
    "        self.birth_year = birth_year\n",
    "        \n",
    "    def say_hi( self ):\n",
    "        print('Hello!')\n",
    "\n",
    "p = Person( 'Kobe', 1969 )\n",
    "p.say_hi()"
   ]
  },
  {
   "cell_type": "code",
   "execution_count": 23,
   "metadata": {},
   "outputs": [
    {
     "name": "stdout",
     "output_type": "stream",
     "text": [
      "Hello!\n"
     ]
    },
    {
     "data": {
      "text/plain": [
       "['time: <built-in method now of type object at 0x00007FFE635F05B0>',\n",
       " 'id : 0x2896b4cfbc8',\n",
       " 'name L Dest',\n",
       " 'birth_year L 1999']"
      ]
     },
     "execution_count": 23,
     "metadata": {},
     "output_type": "execute_result"
    }
   ],
   "source": [
    "p = Person(\"Dest\", 1999)\n",
    "p.say_hi()\n",
    "p.debug()"
   ]
  }
 ],
 "metadata": {
  "kernelspec": {
   "display_name": "Python 3",
   "language": "python",
   "name": "python3"
  },
  "language_info": {
   "codemirror_mode": {
    "name": "ipython",
    "version": 3
   },
   "file_extension": ".py",
   "mimetype": "text/x-python",
   "name": "python",
   "nbconvert_exporter": "python",
   "pygments_lexer": "ipython3",
   "version": "3.7.4"
  }
 },
 "nbformat": 4,
 "nbformat_minor": 4
}
