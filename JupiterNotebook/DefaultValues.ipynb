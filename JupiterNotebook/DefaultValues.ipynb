{
 "cells": [
  {
   "cell_type": "code",
   "execution_count": 2,
   "metadata": {},
   "outputs": [
    {
     "name": "stdout",
     "output_type": "stream",
     "text": [
      "2019-11-05 22:57:41.669253 : Testing default params\n",
      "2019-11-05 22:57:41.669253 : time is not accurate, because datetime.utcnow() is evalulated on compile time\n"
     ]
    }
   ],
   "source": [
    "from datetime import datetime\n",
    "\n",
    "def log( msg , * ,dt=datetime.utcnow() ):\n",
    "    print( '{0} : {1}'.format(dt, msg) )\n",
    "\n",
    "log('Default params as an expression')\n",
    "log('time is not accurate, because datetime.utcnow() is evalulated on compile time')"
   ]
  },
  {
   "cell_type": "code",
   "execution_count": 4,
   "metadata": {},
   "outputs": [
    {
     "name": "stdout",
     "output_type": "stream",
     "text": [
      "2019-11-05 23:00:14.099247 : Default Param on dt ='None'\n",
      "2019-11-05 23:00:14.100271 : Time should be different\n"
     ]
    }
   ],
   "source": [
    "def log( msg, * , dt=None): # use a None object if you need to calculate a default value on the fly\n",
    "    dt = dt or datetime.utcnow() # NOTE : use of boolean 'or' operator\n",
    "    print( '{0} : {1}'.format(dt, msg) )\n",
    "log(\"Default Param on dt ='None'\")\n",
    "log(\"Time should be different\")"
   ]
  },
  {
   "cell_type": "code",
   "execution_count": 7,
   "metadata": {},
   "outputs": [
    {
     "name": "stdout",
     "output_type": "stream",
     "text": [
      "Mutable items in list for a default param :  [1, 2, 3]\n",
      "Mutable items in list for a default param :  [1, 2, 3, 5]\n"
     ]
    }
   ],
   "source": [
    "# Mutable items in function params - Mutable items will mutate. \n",
    "\n",
    "my_list = [1, 2, 3]\n",
    "\n",
    "def mutable( list=my_list):\n",
    "    print( \"Mutable items in list for a default param : \",  list )\n",
    "\n",
    "mutable()\n",
    "my_list.append( 5 )\n",
    "mutable()"
   ]
  },
  {
   "cell_type": "code",
   "execution_count": 9,
   "metadata": {},
   "outputs": [
    {
     "name": "stdout",
     "output_type": "stream",
     "text": [
      "['Milk', 'Soda']\n",
      "['Milk', 'Soda', 'Guns']\n",
      "True\n"
     ]
    }
   ],
   "source": [
    "def add_item( name, grocery_list = []): # Using blank mutable types for initial population of a function is a bad idea. \n",
    "    grocery_list.append(name)\n",
    "    return grocery_list\n",
    "\n",
    "store1 = add_item(\"Milk\")\n",
    "add_item(\"Soda\" , store1 )\n",
    "print( store1 )\n",
    "\n",
    "store2 = add_item(\"Guns\")\n",
    "print( store2 )\n",
    "\n",
    "print( store1 is store2 )"
   ]
  },
  {
   "cell_type": "code",
   "execution_count": 13,
   "metadata": {},
   "outputs": [
    {
     "name": "stdout",
     "output_type": "stream",
     "text": [
      "Calculating 3\n",
      "Calculating 2\n",
      "Calculating 1\n"
     ]
    },
    {
     "data": {
      "text/plain": [
       "6"
      ]
     },
     "execution_count": 13,
     "metadata": {},
     "output_type": "execute_result"
    }
   ],
   "source": [
    "def factorial( n , cache={} ):\n",
    "    if n in cache:\n",
    "        return cache[n]\n",
    "    \n",
    "    if n < 1:\n",
    "        return 1\n",
    "    else:\n",
    "        print( \"Calculating {0}\".format(n) )\n",
    "        result = n * factorial(n-1, cache = cache)\n",
    "        cache[n] = result\n",
    "        return result\n",
    "    \n",
    "factorial(3)"
   ]
  },
  {
   "cell_type": "code",
   "execution_count": 14,
   "metadata": {},
   "outputs": [
    {
     "data": {
      "text/plain": [
       "6"
      ]
     },
     "execution_count": 14,
     "metadata": {},
     "output_type": "execute_result"
    }
   ],
   "source": [
    "factorial(3) # Note that the cache is actually storing values"
   ]
  },
  {
   "cell_type": "code",
   "execution_count": null,
   "metadata": {},
   "outputs": [],
   "source": []
  }
 ],
 "metadata": {
  "kernelspec": {
   "display_name": "Python 3",
   "language": "python",
   "name": "python3"
  },
  "language_info": {
   "codemirror_mode": {
    "name": "ipython",
    "version": 3
   },
   "file_extension": ".py",
   "mimetype": "text/x-python",
   "name": "python",
   "nbconvert_exporter": "python",
   "pygments_lexer": "ipython3",
   "version": "3.7.4"
  }
 },
 "nbformat": 4,
 "nbformat_minor": 4
}
