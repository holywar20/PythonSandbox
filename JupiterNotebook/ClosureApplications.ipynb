{
 "cells": [
  {
   "cell_type": "code",
   "execution_count": 3,
   "metadata": {},
   "outputs": [],
   "source": [
    "# Closures can often be used in place of classes for certain kinds of applications.\n",
    "\n",
    "def averager():\n",
    "    total = 0\n",
    "    count = 0\n",
    "    \n",
    "    def add( number ):\n",
    "        nonlocal total\n",
    "        nonlocal count\n",
    "        total = total + number\n",
    "        count = count + 1\n",
    "        return total / count\n",
    "    return add\n",
    "\n",
    "a = averager()"
   ]
  },
  {
   "cell_type": "code",
   "execution_count": 4,
   "metadata": {},
   "outputs": [
    {
     "name": "stdout",
     "output_type": "stream",
     "text": [
      "5.0 6.0\n"
     ]
    }
   ],
   "source": [
    "print(a(5) , a(7))"
   ]
  },
  {
   "cell_type": "code",
   "execution_count": 6,
   "metadata": {},
   "outputs": [
    {
     "name": "stdout",
     "output_type": "stream",
     "text": [
      "add has been called 1 times\n",
      "mult has been called 1 times\n"
     ]
    },
    {
     "data": {
      "text/plain": [
       "10"
      ]
     },
     "execution_count": 6,
     "metadata": {},
     "output_type": "execute_result"
    }
   ],
   "source": [
    "def counter( fn ): # Count the number of times a function has been called\n",
    "    cnt = 0\n",
    "    def inner(*args, **kwargs ):\n",
    "        nonlocal cnt\n",
    "    \n",
    "        cnt += 1\n",
    "        print('{0} has been called {1} times'.format(fn.__name__, cnt) )\n",
    "        return fn( *args, **kwargs )\n",
    "    return inner\n",
    "\n",
    "def add( a , b):\n",
    "    return a + b\n",
    "\n",
    "def mult( a , b):\n",
    "    return a * b\n",
    "\n",
    "countAdd = counter(add)\n",
    "countMult = counter(mult)\n",
    "\n",
    "countAdd(1 , 2)\n",
    "countMult(2 , 5)\n",
    "    "
   ]
  },
  {
   "cell_type": "code",
   "execution_count": 9,
   "metadata": {},
   "outputs": [
    {
     "data": {
      "text/plain": [
       "6"
      ]
     },
     "execution_count": 9,
     "metadata": {},
     "output_type": "execute_result"
    }
   ],
   "source": [
    "def fact(n): # Using closures to wrap a function, theirby modifying it without breaking the functions contract\n",
    "    product = 1\n",
    "    for i in range( 2, n + 1 ):\n",
    "        product *= i\n",
    "    return product\n",
    "fact(3)"
   ]
  },
  {
   "cell_type": "code",
   "execution_count": 10,
   "metadata": {},
   "outputs": [
    {
     "name": "stdout",
     "output_type": "stream",
     "text": [
      "fact has been called 1 times\n"
     ]
    },
    {
     "data": {
      "text/plain": [
       "6"
      ]
     },
     "execution_count": 10,
     "metadata": {},
     "output_type": "execute_result"
    }
   ],
   "source": [
    "fact = counter( fact )\n",
    "fact(3)"
   ]
  }
 ],
 "metadata": {
  "kernelspec": {
   "display_name": "Python 3",
   "language": "python",
   "name": "python3"
  },
  "language_info": {
   "codemirror_mode": {
    "name": "ipython",
    "version": 3
   },
   "file_extension": ".py",
   "mimetype": "text/x-python",
   "name": "python",
   "nbconvert_exporter": "python",
   "pygments_lexer": "ipython3",
   "version": "3.7.4"
  }
 },
 "nbformat": 4,
 "nbformat_minor": 4
}
