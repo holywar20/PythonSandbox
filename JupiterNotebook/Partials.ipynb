{
 "cells": [
  {
   "cell_type": "code",
   "execution_count": 4,
   "metadata": {},
   "outputs": [],
   "source": [
    "def my_func( a , b , c):\n",
    "    print( a , b , c )"
   ]
  },
  {
   "cell_type": "code",
   "execution_count": 5,
   "metadata": {},
   "outputs": [],
   "source": [
    "def outer_func( x, y): # Doing a partial function without the partials class\n",
    "    return my_func( 0 , x , y)\n",
    "\n",
    "outer_func( 1 , 2)"
   ]
  },
  {
   "cell_type": "code",
   "execution_count": 6,
   "metadata": {},
   "outputs": [
    {
     "name": "stdout",
     "output_type": "stream",
     "text": [
      "10 20 30\n"
     ]
    }
   ],
   "source": [
    "from functools import partial # Partials bake in the assigned variable. \n",
    "\n",
    "# If value of 'a' changes the value of f() does not.\n",
    "a = 10\n",
    "\n",
    "f = partial( my_func, a )\n",
    "f( 20, 30 )"
   ]
  }
 ],
 "metadata": {
  "kernelspec": {
   "display_name": "Python 3",
   "language": "python",
   "name": "python3"
  },
  "language_info": {
   "codemirror_mode": {
    "name": "ipython",
    "version": 3
   },
   "file_extension": ".py",
   "mimetype": "text/x-python",
   "name": "python",
   "nbconvert_exporter": "python",
   "pygments_lexer": "ipython3",
   "version": "3.7.4"
  }
 },
 "nbformat": 4,
 "nbformat_minor": 4
}
