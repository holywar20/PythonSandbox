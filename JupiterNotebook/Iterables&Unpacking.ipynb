{
 "cells": [
  {
   "cell_type": "code",
   "execution_count": 9,
   "metadata": {},
   "outputs": [
    {
     "data": {
      "text/plain": [
       "tuple"
      ]
     },
     "execution_count": 9,
     "metadata": {},
     "output_type": "execute_result"
    }
   ],
   "source": [
    "a = (1 , 2 , 3)\n",
    "type(a) # this is a tuple\n",
    "\n",
    "a = 1, 2 ,3,\n",
    "type(a) # Also a tuple. Tuple's are defined by trailing comma\n",
    "\n",
    "a = ( 1 )\n",
    "type( a ) # This is actually an int\n",
    "\n",
    "a = ()\n",
    "type(a) # Blank Tuple"
   ]
  },
  {
   "cell_type": "code",
   "execution_count": 7,
   "metadata": {},
   "outputs": [
    {
     "name": "stdout",
     "output_type": "stream",
     "text": [
      "1 2 3\n"
     ]
    }
   ],
   "source": [
    "a, b, c = [ 1 , 2, 3 ] # Unpacking a list. Lefthand side is a tuple\n",
    "print( a , b , c )"
   ]
  },
  {
   "cell_type": "code",
   "execution_count": 11,
   "metadata": {},
   "outputs": [],
   "source": [
    "# This evaluates right hand side first, then evalulates left hand side. Allows for parell assignment"
   ]
  },
  {
   "cell_type": "code",
   "execution_count": 12,
   "metadata": {},
   "outputs": [
    {
     "name": "stdout",
     "output_type": "stream",
     "text": [
      "20 10\n"
     ]
    }
   ],
   "source": [
    "a , b = 10 , 20 # Parallel Assignment ( note both are tuples )\n",
    "a , b = b , a # As a result we can flip variables like this\n",
    "\n",
    "print( a , b ) # Flipped!"
   ]
  },
  {
   "cell_type": "code",
   "execution_count": 15,
   "metadata": {},
   "outputs": [],
   "source": [
    "# Dictionaries & Sets are unordered. Tuples & lists are ordered. IE Curly Brace means unordered. Drill that into my brain"
   ]
  },
  {
   "cell_type": "code",
   "execution_count": 16,
   "metadata": {},
   "outputs": [
    {
     "name": "stdout",
     "output_type": "stream",
     "text": [
      "1 [2, 3, 4, 5, 6]\n"
     ]
    }
   ],
   "source": [
    "# Extended Unpacking and the * operator\n",
    "list = [1, 2 ,3 ,4 ,5 ,6 ]\n",
    "\n",
    "simple_unpack_first, simple_unpack_rest = list[0] , list[1:] # aka Parallel assignment\n",
    "print( simple_unpack_first, simple_unpack_rest)\n"
   ]
  },
  {
   "cell_type": "code",
   "execution_count": 19,
   "metadata": {},
   "outputs": [
    {
     "name": "stdout",
     "output_type": "stream",
     "text": [
      "1 [2, 3, 4, 5, 6]\n"
     ]
    }
   ],
   "source": [
    "star_operator_first, *star_operator_second = list # This works with non-lists ( though you can't trust the ordering )\n",
    "print( star_operator_first, star_operator_second ) # Unpack ALWAYS unpacks into a list."
   ]
  },
  {
   "cell_type": "code",
   "execution_count": 21,
   "metadata": {},
   "outputs": [
    {
     "name": "stdout",
     "output_type": "stream",
     "text": [
      "1 2 [3, 4, 5] 6\n"
     ]
    }
   ],
   "source": [
    "a, b , *c, d = list # Extended unpacking , notes it fills the * operator variable.\n",
    "print( a , b , c , d)"
   ]
  },
  {
   "cell_type": "code",
   "execution_count": 22,
   "metadata": {},
   "outputs": [
    {
     "name": "stdout",
     "output_type": "stream",
     "text": [
      "['t', 'e', 's', 't', 's', 't', 'r', 'i', 'n', 'g']\n"
     ]
    }
   ],
   "source": [
    "# Convert a string to a list\n",
    "string = \"teststring\"\n",
    "*list, = string # NOTE : Comma makes this a tuple, not the paren\n",
    "print( list )"
   ]
  },
  {
   "cell_type": "code",
   "execution_count": 23,
   "metadata": {},
   "outputs": [
    {
     "name": "stdout",
     "output_type": "stream",
     "text": [
      "[1, 2, 3, 1, 2, 3]\n"
     ]
    }
   ],
   "source": [
    "# Join lists\n",
    "l1 = [1 , 2 ,3 ]\n",
    "l2 = [1 , 2 ,3 ]\n",
    "total_list = [*l1, *l2]\n",
    "print(total_list)"
   ]
  },
  {
   "cell_type": "code",
   "execution_count": 24,
   "metadata": {},
   "outputs": [
    {
     "name": "stdout",
     "output_type": "stream",
     "text": [
      "{'z', 'x', 'k'}\n"
     ]
    }
   ],
   "source": [
    "# Dictionary Merges - right most values override left most values. \n",
    "left = {'k': 'original' , 'x' : 21}\n",
    "right = {'k': 'override' , 'z' : 1}\n",
    "\n",
    "merged_keys_in_a_set = {*left , *right }\n",
    "print(merged_keys_in_a_set)\n"
   ]
  },
  {
   "cell_type": "code",
   "execution_count": 25,
   "metadata": {},
   "outputs": [
    {
     "name": "stdout",
     "output_type": "stream",
     "text": [
      "{'k': 'override', 'x': 21, 'z': 1}\n"
     ]
    }
   ],
   "source": [
    "merged_all_in_a_dict = {**left, **right}\n",
    "print(merged_all_in_a_dict)"
   ]
  },
  {
   "cell_type": "code",
   "execution_count": 30,
   "metadata": {},
   "outputs": [
    {
     "name": "stdout",
     "output_type": "stream",
     "text": [
      "a b c d ['e', 'e', 'e', 'e', 'e', 'e', 'e', 'e', 'e', 'e']\n"
     ]
    }
   ],
   "source": [
    "# Nested unpacking\n",
    "a , b , *( c, d , *e) = 'abcdeeeeeeeeee'\n",
    "print( a, b, c, d, e)"
   ]
  },
  {
   "cell_type": "code",
   "execution_count": null,
   "metadata": {},
   "outputs": [],
   "source": []
  }
 ],
 "metadata": {
  "kernelspec": {
   "display_name": "Python 3",
   "language": "python",
   "name": "python3"
  },
  "language_info": {
   "codemirror_mode": {
    "name": "ipython",
    "version": 3
   },
   "file_extension": ".py",
   "mimetype": "text/x-python",
   "name": "python",
   "nbconvert_exporter": "python",
   "pygments_lexer": "ipython3",
   "version": "3.7.4"
  }
 },
 "nbformat": 4,
 "nbformat_minor": 4
}
