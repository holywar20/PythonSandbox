{
 "cells": [
  {
   "cell_type": "code",
   "execution_count": 12,
   "metadata": {},
   "outputs": [],
   "source": [
    "# Modules\n",
    "\n",
    "def global_func():\n",
    "    a = 10\n",
    "    print(locals())\n",
    "\n",
    "# -- To show all global functions in a namespace.\n",
    "# globals() \n",
    "# Note that global_func() appears in the global namespace. This refers to the __main__ module, which is the default module from an executed script."
   ]
  },
  {
   "cell_type": "code",
   "execution_count": 13,
   "metadata": {},
   "outputs": [
    {
     "data": {
      "text/plain": [
       "True"
      ]
     },
     "execution_count": 13,
     "metadata": {},
     "output_type": "execute_result"
    }
   ],
   "source": [
    "f = globals()['global_func'] # Creating a refrence to a global function \n",
    "f is global_func"
   ]
  },
  {
   "cell_type": "code",
   "execution_count": 14,
   "metadata": {},
   "outputs": [
    {
     "name": "stdout",
     "output_type": "stream",
     "text": [
      "{'a': 10}\n"
     ]
    }
   ],
   "source": [
    "global_func() # only shows local variables."
   ]
  },
  {
   "cell_type": "code",
   "execution_count": 15,
   "metadata": {},
   "outputs": [],
   "source": [
    "import math\n",
    "import fractions"
   ]
  },
  {
   "cell_type": "code",
   "execution_count": 19,
   "metadata": {},
   "outputs": [
    {
     "data": {
      "text/plain": [
       "<module 'math' (built-in)>"
      ]
     },
     "execution_count": 19,
     "metadata": {},
     "output_type": "execute_result"
    }
   ],
   "source": [
    "math # imported from built-in"
   ]
  },
  {
   "cell_type": "code",
   "execution_count": 20,
   "metadata": {},
   "outputs": [
    {
     "data": {
      "text/plain": [
       "<module 'fractions' from 'C:\\\\Users\\\\Holywar\\\\Anaconda3\\\\lib\\\\fractions.py'>"
      ]
     },
     "execution_count": 20,
     "metadata": {},
     "output_type": "execute_result"
    }
   ],
   "source": [
    "fractions # this comes from a library"
   ]
  },
  {
   "cell_type": "code",
   "execution_count": 21,
   "metadata": {},
   "outputs": [
    {
     "data": {
      "text/plain": [
       "dict"
      ]
     },
     "execution_count": 21,
     "metadata": {},
     "output_type": "execute_result"
    }
   ],
   "source": [
    "import sys\n",
    "type(sys.modules) # modules are cached. They only get imported once, and are shared by refrence."
   ]
  },
  {
   "cell_type": "code",
   "execution_count": 24,
   "metadata": {},
   "outputs": [
    {
     "data": {
      "text/plain": [
       "'C:\\\\Users\\\\Holywar\\\\Anaconda3\\\\lib\\\\fractions.py'"
      ]
     },
     "execution_count": 24,
     "metadata": {},
     "output_type": "execute_result"
    }
   ],
   "source": [
    "# See all properties in a module\n",
    "# print( math.__dict__ )\n",
    "# In many cases the properties are just a bunch of functions\n",
    "\n",
    "fractions.__file__ # The path that libraries get placed in. Huge list of standard libs in this directory."
   ]
  },
  {
   "cell_type": "code",
   "execution_count": 27,
   "metadata": {},
   "outputs": [
    {
     "data": {
      "text/plain": [
       "True"
      ]
     },
     "execution_count": 27,
     "metadata": {},
     "output_type": "execute_result"
    }
   ],
   "source": [
    "import types\n",
    "isinstance( math , types.ModuleType )"
   ]
  },
  {
   "cell_type": "code",
   "execution_count": 29,
   "metadata": {},
   "outputs": [],
   "source": [
    "module_demo = types.ModuleType('test', 'Random doc string') # Creating a module"
   ]
  },
  {
   "cell_type": "code",
   "execution_count": 30,
   "metadata": {},
   "outputs": [
    {
     "name": "stdout",
     "output_type": "stream",
     "text": [
      "C:\\Users\\Holywar\\Anaconda3 C:\\Users\\Holywar\\Anaconda3\n"
     ]
    }
   ],
   "source": [
    "print( sys.prefix , sys.exec_prefix ) # Where python modules are installed"
   ]
  },
  {
   "cell_type": "code",
   "execution_count": 31,
   "metadata": {},
   "outputs": [
    {
     "name": "stdout",
     "output_type": "stream",
     "text": [
      "['C:\\\\Users\\\\Holywar\\\\Untitled Folder', 'C:\\\\Users\\\\Holywar\\\\Anaconda3\\\\python37.zip', 'C:\\\\Users\\\\Holywar\\\\Anaconda3\\\\DLLs', 'C:\\\\Users\\\\Holywar\\\\Anaconda3\\\\lib', 'C:\\\\Users\\\\Holywar\\\\Anaconda3', '', 'C:\\\\Users\\\\Holywar\\\\Anaconda3\\\\lib\\\\site-packages', 'C:\\\\Users\\\\Holywar\\\\Anaconda3\\\\lib\\\\site-packages\\\\win32', 'C:\\\\Users\\\\Holywar\\\\Anaconda3\\\\lib\\\\site-packages\\\\win32\\\\lib', 'C:\\\\Users\\\\Holywar\\\\Anaconda3\\\\lib\\\\site-packages\\\\Pythonwin', 'C:\\\\Users\\\\Holywar\\\\Anaconda3\\\\lib\\\\site-packages\\\\IPython\\\\extensions', 'C:\\\\Users\\\\Holywar\\\\.ipython']\n"
     ]
    }
   ],
   "source": [
    "print( sys.path ) # this is where python looks for modules. It can look into zip, dlls, etc."
   ]
  },
  {
   "cell_type": "markdown",
   "metadata": {},
   "source": [
    "How Python imports\n",
    "- checks sys.modules cache for the name of the module, if available uses that.\n",
    "- Otherwise \n",
    "    - Creates a new module object(types.ModuleType)\n",
    "    - Loads sourcecode from file\n",
    "    - adds an entry to sys.modules with name as key\n",
    "    - compiles and executes source code"
   ]
  },
  {
   "cell_type": "code",
   "execution_count": 2,
   "metadata": {},
   "outputs": [
    {
     "name": "stdout",
     "output_type": "stream",
     "text": [
      "ModuleSpec(name='fractions', loader=<_frozen_importlib_external.SourceFileLoader object at 0x000001BE78564408>, origin='C:\\\\Users\\\\Holywar\\\\Anaconda3\\\\lib\\\\fractions.py') fractions  C:\\Users\\Holywar\\Anaconda3\\lib\\fractions.py\n"
     ]
    }
   ],
   "source": [
    "import os.path # Todo a manual import. Should never have to do this, this more just about understanding what python is doing\n",
    "import types\n",
    "import sys\n",
    "\n",
    "# set up file pathing\n",
    "mod_name = \"module1\"\n",
    "mod_file = \"somefile\"\n",
    "mod_path = \".\"\n",
    "\n",
    "rel_file_path = os.path.join( mod_path , mod_file )\n",
    "abs_file_path = os.path.abspath( rel_file_path )\n",
    "\n",
    "# open code file\n",
    "#with open( rel_file_path , 'r') as code_file:\n",
    "#    source_code = code_file.read()\n",
    "    \n",
    "mod = types.ModuleType(mod_name)\n",
    "mod.__file__ = abs_file_path\n",
    "\n",
    "sys.modules[mod_name] = mod\n",
    "\n",
    "#code = compile ( source_code, filename=abs_file_path, mode='exec')\n",
    "#exec( code , mod.__dict__ )\n",
    "\n",
    "import fractions\n",
    "print( fractions.__spec__ , \n",
    "      fractions.__name__ , \n",
    "      fractions.__package__ , \n",
    "      fractions.__file__ \n",
    "     )\n"
   ]
  }
 ],
 "metadata": {
  "kernelspec": {
   "display_name": "Python 3",
   "language": "python",
   "name": "python3"
  },
  "language_info": {
   "codemirror_mode": {
    "name": "ipython",
    "version": 3
   },
   "file_extension": ".py",
   "mimetype": "text/x-python",
   "name": "python",
   "nbconvert_exporter": "python",
   "pygments_lexer": "ipython3",
   "version": "3.7.4"
  }
 },
 "nbformat": 4,
 "nbformat_minor": 4
}
