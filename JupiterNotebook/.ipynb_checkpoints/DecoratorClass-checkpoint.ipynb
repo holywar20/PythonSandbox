{
 "cells": [
  {
   "cell_type": "code",
   "execution_count": 4,
   "metadata": {},
   "outputs": [],
   "source": [
    "# Decorater class using extra call arguments\n",
    "# a , b has been passed into the inner most function\n",
    "# This is a decorator created using closures.\n",
    "def my_dec( a, b ):\n",
    "    def dec(fn):\n",
    "        def inner( *args, **kwargs):\n",
    "            print(\"decorated function called a={0} , b={1}\".format(a, b))\n",
    "            return fn(*args, **kwargs)\n",
    "        return inner\n",
    "    return dec\n"
   ]
  },
  {
   "cell_type": "code",
   "execution_count": 5,
   "metadata": {},
   "outputs": [
    {
     "name": "stdout",
     "output_type": "stream",
     "text": [
      "decorated function called a=10 , b=20\n",
      "Hello World!\n"
     ]
    }
   ],
   "source": [
    "@my_dec( 10 , 20)\n",
    "def my_func(s):\n",
    "    print(\"Hello {0}\".format( s ) )\n",
    "    \n",
    "my_func(\"World!\")"
   ]
  },
  {
   "cell_type": "code",
   "execution_count": 14,
   "metadata": {},
   "outputs": [],
   "source": [
    "class MyClass:\n",
    "    def __init__(self, a, b):\n",
    "        self.a = a\n",
    "        self.b = b\n",
    "        \n",
    "    def __call__( self, c):\n",
    "        print(\"called a={0} , b={1} , c={2}\".format( self.a, self.b, c) )"
   ]
  },
  {
   "cell_type": "code",
   "execution_count": 15,
   "metadata": {},
   "outputs": [
    {
     "name": "stdout",
     "output_type": "stream",
     "text": [
      "called a=Class , b=Vars , c=Callable Var\n"
     ]
    }
   ],
   "source": [
    "myObj = MyClass( \"Class\" , \"Vars\" )\n",
    "myObj.__call__( \"Callable Var\" )"
   ]
  },
  {
   "cell_type": "code",
   "execution_count": 16,
   "metadata": {},
   "outputs": [
    {
     "name": "stdout",
     "output_type": "stream",
     "text": [
      "called a=Class , b=Vars , c=Callable var, using a proper callable\n"
     ]
    }
   ],
   "source": [
    "myObj(\"Callable var, using a proper callable\")"
   ]
  },
  {
   "cell_type": "code",
   "execution_count": 22,
   "metadata": {},
   "outputs": [],
   "source": [
    "# This is a decorator done using class. Much better Pattern IMO\n",
    "\n",
    "class MyClass:\n",
    "    def __init__(self, a, b):\n",
    "        self.a = a\n",
    "        self.b = b\n",
    "        \n",
    "    def __call__( self, fn):\n",
    "        def inner( *args, **kwargs):\n",
    "            print(\"decorated function called a={0} , b={1}\".format(self.a, self.b))\n",
    "            return fn(*args, **kwargs)\n",
    "        return inner"
   ]
  },
  {
   "cell_type": "code",
   "execution_count": 25,
   "metadata": {},
   "outputs": [
    {
     "name": "stdout",
     "output_type": "stream",
     "text": [
      "decorated function called a=Decorator var A , b=Decorator Var B\n",
      "Hello A better way of doing decorators\n"
     ]
    }
   ],
   "source": [
    "@MyClass(\"Decorator var A\" , \"Decorator Var B\" )\n",
    "def my_func( s ):\n",
    "    print(\"Hello {0}\".format( s ) )\n",
    "    \n",
    "my_func(\"A better way of doing decorators\")"
   ]
  }
 ],
 "metadata": {
  "kernelspec": {
   "display_name": "Python 3",
   "language": "python",
   "name": "python3"
  },
  "language_info": {
   "codemirror_mode": {
    "name": "ipython",
    "version": 3
   },
   "file_extension": ".py",
   "mimetype": "text/x-python",
   "name": "python",
   "nbconvert_exporter": "python",
   "pygments_lexer": "ipython3",
   "version": "3.7.4"
  }
 },
 "nbformat": 4,
 "nbformat_minor": 4
}
