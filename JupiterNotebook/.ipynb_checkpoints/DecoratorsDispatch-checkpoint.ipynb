{
 "cells": [
  {
   "cell_type": "code",
   "execution_count": 1,
   "metadata": {},
   "outputs": [
    {
     "name": "stdout",
     "output_type": "stream",
     "text": [
      "<class 'object'>\n"
     ]
    }
   ],
   "source": [
    "# This is confusing. Watch these videos before trying to use this. Seems a bit to 'clever' , for general use. \n",
    "# https://www.udemy.com/course/python-3-deep-dive-part-1/learn/lecture/9164638#overview\n",
    "\n",
    "def testFunction( arg ):\n",
    "    print(\"inner!\" , arg )\n",
    "\n",
    "\n",
    "def singleDispatch( fn ) :\n",
    "    registry = {}\n",
    " \n",
    "    registry[object] = fn\n",
    "    registry[int] = lambda a: \n",
    "    \n",
    "    def inner( arg ):\n",
    "        return registry[object](arg)\n",
    "    return inner\n",
    "\n",
    "testFunction = singleDispatch( testFunction )"
   ]
  }
 ],
 "metadata": {
  "kernelspec": {
   "display_name": "Python 3",
   "language": "python",
   "name": "python3"
  },
  "language_info": {
   "codemirror_mode": {
    "name": "ipython",
    "version": 3
   },
   "file_extension": ".py",
   "mimetype": "text/x-python",
   "name": "python",
   "nbconvert_exporter": "python",
   "pygments_lexer": "ipython3",
   "version": "3.7.4"
  }
 },
 "nbformat": 4,
 "nbformat_minor": 4
}
