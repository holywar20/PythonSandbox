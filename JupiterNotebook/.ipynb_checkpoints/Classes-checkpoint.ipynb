{
 "cells": [
  {
   "cell_type": "markdown",
   "metadata": {},
   "source": [
    "Classes"
   ]
  },
  {
   "cell_type": "code",
   "execution_count": 72,
   "metadata": {},
   "outputs": [],
   "source": [
    "class Rectangle:\n",
    "    def __init__(self, width, height ):\n",
    "        self.width = width\n",
    "        self.height = height\n",
    "    \n",
    "    @property\n",
    "    def width( self ):\n",
    "        return self._width\n",
    "    \n",
    "    @width.setter\n",
    "    def width( self , width ):\n",
    "        if width <=0:\n",
    "            raise ValueError(\"Width must be positive\")\n",
    "        else:\n",
    "            self._width = width\n",
    "    \n",
    "    @property\n",
    "    def height( self ):\n",
    "        return self._height\n",
    "    \n",
    "    @height.setter\n",
    "    def height( self , height ):\n",
    "        print(\"using height setter\")\n",
    "        if height <=0:\n",
    "            raise ValueError(\"Width must be positive\")\n",
    "        else:\n",
    "            self._height = height\n",
    "    \n",
    "    def area( self ):\n",
    "        return self._width * self.height\n",
    "    \n",
    "    def perimenter( self ):\n",
    "        return 2 * ( self.width + self.height )\n",
    "    \n",
    "    # MAGIC - METHODS\n",
    "    # Replaces string methods\n",
    "    def __str__( self ):\n",
    "        return 'Rectangle: width={0} , height={1}'.format(self.width, self.height)\n",
    "    \n",
    "    # For representation of object, should return the string ,when typed that would recreate the object\n",
    "    def __repr__( self ):\n",
    "        return 'Rectangle({0},{1})'.format(self.width , self.height)\n",
    "    \n",
    "    # Double equal comparision , allows for arbitrary objects to have comparisions done.\n",
    "    def __eq__ ( self, other ):\n",
    "        if( isinstance(other, Rectangle)): # Good safety check\n",
    "            return (self.width == other.width) and (self.height == other.height )\n",
    "        else:\n",
    "            return false\n",
    "    \n",
    "    # Less than comparison\n",
    "    def __lt__( self, other):\n",
    "        if isinstance( other, Rectangle):\n",
    "            return self.area() < other.area()\n",
    "        else:\n",
    "            return NotImplemented"
   ]
  },
  {
   "cell_type": "code",
   "execution_count": 74,
   "metadata": {},
   "outputs": [
    {
     "data": {
      "text/plain": [
       "Rectangle(-10,-20)"
      ]
     },
     "execution_count": 74,
     "metadata": {},
     "output_type": "execute_result"
    }
   ],
   "source": [
    "r1 = Rectangle(10 , 20)\n",
    "r2 = Rectangle(-10 , -20)\n",
    "\n",
    "r2 # Uses the __repr__ method"
   ]
  },
  {
   "cell_type": "code",
   "execution_count": 75,
   "metadata": {},
   "outputs": [
    {
     "name": "stdout",
     "output_type": "stream",
     "text": [
      "Rectangle: width=10 , height=20\n",
      "Rectangle: width=10 , height=20\n"
     ]
    }
   ],
   "source": [
    "print(r1) # Uses the __str__ method\n",
    "print(str(r1))"
   ]
  },
  {
   "cell_type": "code",
   "execution_count": 76,
   "metadata": {},
   "outputs": [
    {
     "data": {
      "text/plain": [
       "False"
      ]
     },
     "execution_count": 76,
     "metadata": {},
     "output_type": "execute_result"
    }
   ],
   "source": [
    "r1 == r2"
   ]
  },
  {
   "cell_type": "code",
   "execution_count": 77,
   "metadata": {},
   "outputs": [
    {
     "data": {
      "text/plain": [
       "True"
      ]
     },
     "execution_count": 77,
     "metadata": {},
     "output_type": "execute_result"
    }
   ],
   "source": [
    "r1 is not r2"
   ]
  },
  {
   "cell_type": "code",
   "execution_count": 78,
   "metadata": {},
   "outputs": [
    {
     "data": {
      "text/plain": [
       "False"
      ]
     },
     "execution_count": 78,
     "metadata": {},
     "output_type": "execute_result"
    }
   ],
   "source": [
    "r1 < r2"
   ]
  },
  {
   "cell_type": "code",
   "execution_count": 79,
   "metadata": {},
   "outputs": [
    {
     "data": {
      "text/plain": [
       "False"
      ]
     },
     "execution_count": 79,
     "metadata": {},
     "output_type": "execute_result"
    }
   ],
   "source": [
    "r1 > r2 # Note - included in __lt__ is the inverse, __gt__ which makes  this work"
   ]
  },
  {
   "cell_type": "code",
   "execution_count": 80,
   "metadata": {},
   "outputs": [],
   "source": [
    "r1.width = 100 # would throw an error if -100."
   ]
  },
  {
   "cell_type": "code",
   "execution_count": null,
   "metadata": {},
   "outputs": [],
   "source": []
  }
 ],
 "metadata": {
  "kernelspec": {
   "display_name": "Python 3",
   "language": "python",
   "name": "python3"
  },
  "language_info": {
   "codemirror_mode": {
    "name": "ipython",
    "version": 3
   },
   "file_extension": ".py",
   "mimetype": "text/x-python",
   "name": "python",
   "nbconvert_exporter": "python",
   "pygments_lexer": "ipython3",
   "version": "3.7.4"
  }
 },
 "nbformat": 4,
 "nbformat_minor": 2
}
