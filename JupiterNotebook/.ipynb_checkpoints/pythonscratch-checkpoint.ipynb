{
 "cells": [
  {
   "cell_type": "code",
   "execution_count": 2,
   "metadata": {},
   "outputs": [
    {
     "data": {
      "text/plain": [
       "<function __main__.<lambda>(x)>"
      ]
     },
     "execution_count": 2,
     "metadata": {},
     "output_type": "execute_result"
    }
   ],
   "source": [
    "lambda x: x**2"
   ]
  },
  {
   "cell_type": "code",
   "execution_count": 4,
   "metadata": {},
   "outputs": [
    {
     "data": {
      "text/plain": [
       "4"
      ]
     },
     "execution_count": 4,
     "metadata": {},
     "output_type": "execute_result"
    }
   ],
   "source": [
    "fn1 = lambda x: x**2\n",
    "\n",
    "fn1(2)"
   ]
  },
  {
   "cell_type": "code",
   "execution_count": 8,
   "metadata": {},
   "outputs": [
    {
     "name": "stdout",
     "output_type": "stream",
     "text": [
      "please enter your name: test\n",
      "Hello, test\n"
     ]
    }
   ],
   "source": [
    "min_length = 2\n",
    "name = input(\"please enter your name: \")\n",
    "\n",
    "while not( len(name) >= min_length ):\n",
    "    name = input(\"please enter your name \")\n",
    "    \n",
    "print(\"Hello, {0}\".format(name))"
   ]
  },
  {
   "cell_type": "code",
   "execution_count": 11,
   "metadata": {},
   "outputs": [
    {
     "name": "stdout",
     "output_type": "stream",
     "text": [
      "New line ---------\n",
      "1, 1 - always executes \n",
      "1, 1 - Main loop \n",
      "New line ---------\n",
      "2, 0 - division by zero\n",
      "2, 0 - always executes \n",
      "New line ---------\n",
      "3, -1 - always executes \n",
      "3, -1 - Main loop \n",
      "New line ---------\n",
      "4, -2 - always executes \n",
      "4, -2 - Main loop \n"
     ]
    }
   ],
   "source": [
    "a = 0\n",
    "b = 2\n",
    "\n",
    "while a < 4:\n",
    "    print('New line ---------')\n",
    "    a += 1\n",
    "    b -= 1\n",
    "    \n",
    "    try :\n",
    "        a / b\n",
    "    except ZeroDivisionError:\n",
    "        print( \"{0}, {1} - division by zero\".format( a, b ) )\n",
    "        continue # Set to break if you want to stop loop on exception\n",
    "    finally:\n",
    "        print( \"{0}, {1} - always executes \".format( a, b ) )\n",
    "    \n",
    "    print( \"{0}, {1} - Main loop \".format( a, b ) )"
   ]
  },
  {
   "cell_type": "code",
   "execution_count": 12,
   "metadata": {},
   "outputs": [
    {
     "name": "stdout",
     "output_type": "stream",
     "text": [
      "0 h\n",
      "1 e\n",
      "2 l\n",
      "3 l\n",
      "4 o\n"
     ]
    }
   ],
   "source": [
    "s = \"hello\"\n",
    "\n",
    "for i , c in enumerate(s): # Enumerate returns a tuple\n",
    "    print(i,c)"
   ]
  },
  {
   "cell_type": "code",
   "execution_count": null,
   "metadata": {},
   "outputs": [],
   "source": []
  }
 ],
 "metadata": {
  "kernelspec": {
   "display_name": "Python 3",
   "language": "python",
   "name": "python3"
  },
  "language_info": {
   "codemirror_mode": {
    "name": "ipython",
    "version": 3
   },
   "file_extension": ".py",
   "mimetype": "text/x-python",
   "name": "python",
   "nbconvert_exporter": "python",
   "pygments_lexer": "ipython3",
   "version": "3.7.4"
  }
 },
 "nbformat": 4,
 "nbformat_minor": 2
}
