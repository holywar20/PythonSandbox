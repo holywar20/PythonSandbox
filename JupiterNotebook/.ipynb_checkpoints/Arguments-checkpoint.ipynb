{
 "cells": [
  {
   "cell_type": "code",
   "execution_count": 4,
   "metadata": {},
   "outputs": [
    {
     "name": "stdout",
     "output_type": "stream",
     "text": [
      "10 20 ()\n"
     ]
    }
   ],
   "source": [
    "# *args\n",
    "\n",
    "def func(a , b, *args):\n",
    "    print(a , b , args ) # NOTE : args is a tuple, not a list\n",
    "    \n",
    "func(10,20)"
   ]
  },
  {
   "cell_type": "code",
   "execution_count": 5,
   "metadata": {},
   "outputs": [
    {
     "name": "stdout",
     "output_type": "stream",
     "text": [
      "10 20 (30, 40)\n"
     ]
    }
   ],
   "source": [
    "func( 10, 20, 30, 40)"
   ]
  },
  {
   "cell_type": "code",
   "execution_count": 8,
   "metadata": {},
   "outputs": [
    {
     "data": {
      "text/plain": [
       "5.0"
      ]
     },
     "execution_count": 8,
     "metadata": {},
     "output_type": "execute_result"
    }
   ],
   "source": [
    "# Flexible argument average function\n",
    "\n",
    "def avg( first_elem , *args):\n",
    "    count = len(args) + 1\n",
    "    total = sum(args) + first_elem\n",
    "    return total/count\n",
    "\n",
    "avg( 10 , 2 , 3)\n",
    "# avg() -- will return an error"
   ]
  },
  {
   "cell_type": "code",
   "execution_count": 10,
   "metadata": {},
   "outputs": [
    {
     "data": {
      "text/plain": [
       "4.0"
      ]
     },
     "execution_count": 10,
     "metadata": {},
     "output_type": "execute_result"
    }
   ],
   "source": [
    "list = [1,2,3,4,5,6,7]\n",
    "avg(*list) # Unpack a list into a function with *args ( using the * operator on both sides can be useful)"
   ]
  },
  {
   "cell_type": "code",
   "execution_count": 11,
   "metadata": {},
   "outputs": [
    {
     "name": "stdout",
     "output_type": "stream",
     "text": [
      "1 2 (3, 4) 20\n"
     ]
    }
   ],
   "source": [
    "# Keyword Arguments\n",
    "# *args will exhaust all positional arguments\n",
    "# But keyword arguments are permitted\n",
    "\n",
    "def show_position( a, b, *args, d ):\n",
    "    print(a , b , args , d)\n",
    "\n",
    "show_position( 1, 2, 3, 4, d=20)"
   ]
  },
  {
   "cell_type": "code",
   "execution_count": 12,
   "metadata": {},
   "outputs": [
    {
     "name": "stdout",
     "output_type": "stream",
     "text": [
      "1 2 () 20\n"
     ]
    }
   ],
   "source": [
    "show_position( 1, 2, d=20) # Also valid. Note this is the bare minimum of permitted arguments"
   ]
  },
  {
   "cell_type": "code",
   "execution_count": 14,
   "metadata": {},
   "outputs": [],
   "source": [
    "# show_position( d = 20) # this will fail."
   ]
  },
  {
   "cell_type": "code",
   "execution_count": 19,
   "metadata": {},
   "outputs": [
    {
     "name": "stdout",
     "output_type": "stream",
     "text": [
      "collect_positionals:  (1, 2, 3) 10\n",
      "omit_positionals:  20\n"
     ]
    }
   ],
   "source": [
    "def collect_positionals( *args, d ): # We can force a function to collect all positional arguments. All arguments after *args are considered keyword arguments\n",
    "    print(\"collect_positionals: \" , args, d )\n",
    "    \n",
    "def omit_positionals( * , d): # This does not permit additional positional arguments\n",
    "    print( \"omit_positionals: \", d )\n",
    "\n",
    "collect_positionals( 1, 2, 3, d=10)\n",
    "omit_positionals( d=20 )\n",
    "# omit_positionals( \"omit_positionals: \" , 10, d=20 ) # This will ERROR"
   ]
  },
  {
   "cell_type": "code",
   "execution_count": 23,
   "metadata": {},
   "outputs": [
    {
     "name": "stdout",
     "output_type": "stream",
     "text": [
      "<class 'tuple'> <class 'dict'>\n",
      "(1, 2, 3) {'a': 'test', 'b': 'test'}\n",
      "<class 'tuple'> <class 'dict'>\n",
      "() {}\n"
     ]
    }
   ],
   "source": [
    "# **kwargs - Collections the positional argument , kwargs\n",
    "def keyword_args(*a_tuple, **a_dict ):\n",
    "    print( type(a_tuple) , type(a_dict) )\n",
    "    print( a_tuple , a_dict )\n",
    "\n",
    "keyword_args( 1 , 2 , 3 , a=\"test\", b=\"test\") # seperates values into a tuple & dictionary\n",
    "keyword_args() # Also valid - since both * and **"
   ]
  },
  {
   "cell_type": "code",
   "execution_count": 26,
   "metadata": {},
   "outputs": [
    {
     "name": "stdout",
     "output_type": "stream",
     "text": [
      "15.0\n"
     ]
    }
   ],
   "source": [
    "def calc_hi_low_avg(*args, log_to_console = False ):\n",
    "    hi = int(bool(args)) and max(args) # Bool on empty tuple evalulates to false, which is then turned to int of 0. If argument before 'and' is zero, you get max(args) instead.\n",
    "    lo = int(bool(args)) and min(args)\n",
    "    \n",
    "    avg = ( hi + lo ) / 2\n",
    "    if log_to_console:\n",
    "        print(\"Logging some shit\")\n",
    "        \n",
    "    return avg\n",
    "\n",
    "print( calc_hi_low_avg(10 , 20) )"
   ]
  },
  {
   "cell_type": "code",
   "execution_count": null,
   "metadata": {},
   "outputs": [],
   "source": []
  }
 ],
 "metadata": {
  "kernelspec": {
   "display_name": "Python 3",
   "language": "python",
   "name": "python3"
  },
  "language_info": {
   "codemirror_mode": {
    "name": "ipython",
    "version": 3
   },
   "file_extension": ".py",
   "mimetype": "text/x-python",
   "name": "python",
   "nbconvert_exporter": "python",
   "pygments_lexer": "ipython3",
   "version": "3.7.4"
  }
 },
 "nbformat": 4,
 "nbformat_minor": 4
}
