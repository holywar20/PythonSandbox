{
 "cells": [
  {
   "cell_type": "code",
   "execution_count": 1,
   "metadata": {},
   "outputs": [],
   "source": [
    "def counter( fn ):\n",
    "    count = 0\n",
    "    \n",
    "    def inner(*args, **kwargs):\n",
    "        nonlocal count\n",
    "        count += 1\n",
    "        print(\"Function {0} was called {1} times\".format(fn.__name__, count))\n",
    "        \n",
    "        return fn(*args , **kwargs )\n",
    "    return inner "
   ]
  },
  {
   "cell_type": "code",
   "execution_count": 3,
   "metadata": {},
   "outputs": [
    {
     "name": "stdout",
     "output_type": "stream",
     "text": [
      "Help on function inner in module __main__:\n",
      "\n",
      "inner(*args, **kwargs)\n",
      "\n"
     ]
    }
   ],
   "source": [
    "@counter # This is the same as add = counter(add)\n",
    "def add( a , b):\n",
    "    \"\"\"\n",
    "    Adds two items\n",
    "    \"\"\"\n",
    "    return a + b\n",
    "\n",
    "help(add) #NOTE - we lost the doc string here"
   ]
  },
  {
   "cell_type": "code",
   "execution_count": 4,
   "metadata": {},
   "outputs": [
    {
     "name": "stdout",
     "output_type": "stream",
     "text": [
      "Function myFunc was called 1 times\n"
     ]
    },
    {
     "data": {
      "text/plain": [
       "200"
      ]
     },
     "execution_count": 4,
     "metadata": {},
     "output_type": "execute_result"
    }
   ],
   "source": [
    "@counter\n",
    "def myFunc( s: str , i : int ) -> str:\n",
    "    return s * i\n",
    "\n",
    "myFunc(10 , 20)"
   ]
  },
  {
   "cell_type": "code",
   "execution_count": 6,
   "metadata": {},
   "outputs": [],
   "source": [
    "from functools import wraps"
   ]
  },
  {
   "cell_type": "code",
   "execution_count": 7,
   "metadata": {},
   "outputs": [
    {
     "name": "stdout",
     "output_type": "stream",
     "text": [
      "Help on function add in module __main__:\n",
      "\n",
      "add(a, b)\n",
      "    Adds two items\n",
      "\n"
     ]
    }
   ],
   "source": [
    "def counter( fn ):\n",
    "    count = 0\n",
    "    \n",
    "    @wraps(fn)\n",
    "    def inner(*args, **kwargs):\n",
    "        nonlocal count\n",
    "        count += 1\n",
    "        print(\"Function {0} was called {1} times\".format(fn.__name__, count))\n",
    "        \n",
    "        return fn(*args , **kwargs )\n",
    "    return inner\n",
    "\n",
    "@counter # This is the same as add = counter(add)\n",
    "def add( a , b):\n",
    "    \"\"\"\n",
    "    Adds two items\n",
    "    \"\"\"\n",
    "    return a + b\n",
    "\n",
    "help(add) # NOTE that wraps fixes the metadata"
   ]
  }
 ],
 "metadata": {
  "kernelspec": {
   "display_name": "Python 3",
   "language": "python",
   "name": "python3"
  },
  "language_info": {
   "codemirror_mode": {
    "name": "ipython",
    "version": 3
   },
   "file_extension": ".py",
   "mimetype": "text/x-python",
   "name": "python",
   "nbconvert_exporter": "python",
   "pygments_lexer": "ipython3",
   "version": "3.7.4"
  }
 },
 "nbformat": 4,
 "nbformat_minor": 4
}
