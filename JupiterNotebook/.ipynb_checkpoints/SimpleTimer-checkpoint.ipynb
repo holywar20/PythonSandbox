{
 "cells": [
  {
   "cell_type": "code",
   "execution_count": 3,
   "metadata": {},
   "outputs": [
    {
     "name": "stdout",
     "output_type": "stream",
     "text": [
      "1 - 2 - 3\n",
      "1 - 2 - 3\n",
      "1 - 2 - 3\n",
      "1 - 2 - 3\n",
      "0.00034149999999044667\n"
     ]
    }
   ],
   "source": [
    "import time\n",
    "\n",
    "def time_it( fn , *args , rep=1, **kwargs ):\n",
    "    start = time.perf_counter()\n",
    "    for i in range(rep):\n",
    "        fn( *args, **kwargs )\n",
    "    end = time.perf_counter()\n",
    "    return ( end - start )\n",
    "\n",
    "print( time_it( print, 1, 2 , 3 , sep = ' - ' , rep=4) )\n"
   ]
  },
  {
   "cell_type": "code",
   "execution_count": 5,
   "metadata": {},
   "outputs": [
    {
     "data": {
      "text/plain": [
       "[2, 4, 8, 16, 32]"
      ]
     },
     "execution_count": 5,
     "metadata": {},
     "output_type": "execute_result"
    }
   ],
   "source": [
    "def compute_powers( n , * , start=1, end):\n",
    "    results = []\n",
    "    for i in range(start,end):\n",
    "        results.append(n**i)\n",
    "    \n",
    "    return results\n",
    "\n",
    "compute_powers( 2 , end=6)"
   ]
  },
  {
   "cell_type": "code",
   "execution_count": 14,
   "metadata": {},
   "outputs": [
    {
     "data": {
      "text/plain": [
       "[2, 4, 8, 16, 32]"
      ]
     },
     "execution_count": 14,
     "metadata": {},
     "output_type": "execute_result"
    }
   ],
   "source": [
    "def compute_powers_list_comp(n, *, start=1, end): # Uses 'list comprehension'\n",
    "    return [n**i for i in range( start, end )]\n",
    "\n",
    "compute_powers_list_comp( 2 , end=6)"
   ]
  },
  {
   "cell_type": "code",
   "execution_count": 18,
   "metadata": {},
   "outputs": [
    {
     "data": {
      "text/plain": [
       "[2, 4, 8, 16, 32]"
      ]
     },
     "execution_count": 18,
     "metadata": {},
     "output_type": "execute_result"
    }
   ],
   "source": [
    "def compute_powers_generator(n , *, start=1, end):\n",
    "    return (n**i for i in range( start, end )\n",
    "\n",
    "x = compute_powers_generator( 2 , end=6 )\n",
    "list(x)"
   ]
  },
  {
   "cell_type": "code",
   "execution_count": 20,
   "metadata": {},
   "outputs": [
    {
     "data": {
      "text/plain": [
       "1.8984193999999661"
      ]
     },
     "execution_count": 20,
     "metadata": {},
     "output_type": "execute_result"
    }
   ],
   "source": [
    "time_it( compute_powers , 2 , start=0 , end=20000 , rep=5)"
   ]
  },
  {
   "cell_type": "code",
   "execution_count": 15,
   "metadata": {},
   "outputs": [
    {
     "data": {
      "text/plain": [
       "1.763532499999883"
      ]
     },
     "execution_count": 15,
     "metadata": {},
     "output_type": "execute_result"
    }
   ],
   "source": [
    "time_it( compute_powers_list_comp , 2 , start=0 , end=20000 , rep=5)"
   ]
  },
  {
   "cell_type": "code",
   "execution_count": 21,
   "metadata": {},
   "outputs": [
    {
     "data": {
      "text/plain": [
       "1.872313399999939"
      ]
     },
     "execution_count": 21,
     "metadata": {},
     "output_type": "execute_result"
    }
   ],
   "source": [
    "time_it( compute_powers_generator , 2 , start=0 , end=20000 , rep=5)"
   ]
  },
  {
   "cell_type": "code",
   "execution_count": null,
   "metadata": {},
   "outputs": [],
   "source": []
  }
 ],
 "metadata": {
  "kernelspec": {
   "display_name": "Python 3",
   "language": "python",
   "name": "python3"
  },
  "language_info": {
   "codemirror_mode": {
    "name": "ipython",
    "version": 3
   },
   "file_extension": ".py",
   "mimetype": "text/x-python",
   "name": "python",
   "nbconvert_exporter": "python",
   "pygments_lexer": "ipython3",
   "version": "3.7.4"
  }
 },
 "nbformat": 4,
 "nbformat_minor": 4
}
