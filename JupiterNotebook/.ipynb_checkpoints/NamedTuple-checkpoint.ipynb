{
 "cells": [
  {
   "cell_type": "code",
   "execution_count": 3,
   "metadata": {},
   "outputs": [
    {
     "data": {
      "text/plain": [
       "<__main__.Point3D at 0x286158c3788>"
      ]
     },
     "execution_count": 3,
     "metadata": {},
     "output_type": "execute_result"
    }
   ],
   "source": [
    "class Point3D: # doing this as a class\n",
    "    def __init__( self, x , y , z):\n",
    "        self.x = x\n",
    "        self.y = y\n",
    "        self.z = z\n",
    "\n",
    "point = Point3D( 10 , 20, 30 )\n",
    "point # NOTE - the lack of any description, because we lack a __repr__ method"
   ]
  },
  {
   "cell_type": "code",
   "execution_count": 4,
   "metadata": {},
   "outputs": [
    {
     "data": {
      "text/plain": [
       "Point2D(x=10, y=20)"
      ]
     },
     "execution_count": 4,
     "metadata": {},
     "output_type": "execute_result"
    }
   ],
   "source": [
    "from collections import namedtuple # Instead creating a tuple\n",
    "Point2D = namedtuple('Point2D' , ['x' , 'y'] )\n",
    "\n",
    "point = Point2D(10, 20)\n",
    "point # NOTE - we get a detailed type automatically, because it's a tuple"
   ]
  },
  {
   "cell_type": "code",
   "execution_count": 5,
   "metadata": {},
   "outputs": [
    {
     "data": {
      "text/plain": [
       "False"
      ]
     },
     "execution_count": 5,
     "metadata": {},
     "output_type": "execute_result"
    }
   ],
   "source": [
    "point2 = Point2D(10, 20)\n",
    "\n",
    "point is point2"
   ]
  },
  {
   "cell_type": "code",
   "execution_count": 7,
   "metadata": {},
   "outputs": [
    {
     "data": {
      "text/plain": [
       "True"
      ]
     },
     "execution_count": 7,
     "metadata": {},
     "output_type": "execute_result"
    }
   ],
   "source": [
    "point == point2 # We also get equality for free"
   ]
  },
  {
   "cell_type": "code",
   "execution_count": 8,
   "metadata": {},
   "outputs": [
    {
     "data": {
      "text/plain": [
       "('x', 'y', 'z')"
      ]
     },
     "execution_count": 8,
     "metadata": {},
     "output_type": "execute_result"
    }
   ],
   "source": [
    "# Modifying & Extended Named tuples\n",
    "from collections import namedtuple\n",
    "# Extending the class by creating a new class.\n",
    "Point3D = namedtuple('Point3D' , Point2D._fields +('z', ))\n",
    "Point3D._fields"
   ]
  },
  {
   "cell_type": "code",
   "execution_count": 12,
   "metadata": {},
   "outputs": [
    {
     "name": "stdout",
     "output_type": "stream",
     "text": [
      "Point3D(x=10, y=10, z=100)\n"
     ]
    }
   ],
   "source": [
    "# Extending the object from another, similar object\n",
    "\n",
    "pt2d = Point2D( 10 , 10 )\n",
    "pt3d = Point3D( *pt2d , 100 )\n",
    "\n",
    "print(pt3d)"
   ]
  },
  {
   "cell_type": "code",
   "execution_count": 16,
   "metadata": {},
   "outputs": [
    {
     "name": "stdout",
     "output_type": "stream",
     "text": [
      "Represents a 2d Cartesian Coordinate\n",
      "Alias for field number 0\n"
     ]
    }
   ],
   "source": [
    "Point3D.__doc__ = \"Represents a 2d Cartesian Coordinate\"\n",
    "print(Point3D.__doc__)\n",
    "print(Point3D.x.__doc__)"
   ]
  },
  {
   "cell_type": "code",
   "execution_count": 21,
   "metadata": {},
   "outputs": [
    {
     "name": "stdout",
     "output_type": "stream",
     "text": [
      "Vector2D(x1=10, y1=0, x2=0, y2=0, originX=0, originY=0)\n"
     ]
    }
   ],
   "source": [
    "# Default Values\n",
    "Vector2D = namedtuple(\"Vector2D\", 'x1 y1 x2 y2 originX originY')\n",
    "\n",
    "# Using prototypes\n",
    "vectorPrototype = Vector2D(0 ,0 ,0 ,0 ,0 ,0)\n",
    "v2 = vectorPrototype._replace( x1 = 10)\n",
    "\n",
    "print( v2 )"
   ]
  },
  {
   "cell_type": "code",
   "execution_count": 27,
   "metadata": {},
   "outputs": [
    {
     "name": "stdout",
     "output_type": "stream",
     "text": [
      "Vector2D(x1=1, y1=2, x2=3, y2=4, originX=10, originY=10)\n"
     ]
    }
   ],
   "source": [
    "# Using default values ( __default__ )\n",
    "Vector2D.__new__.__defaults__ = ( 10 , 10 )\n",
    "v3 = Vector2D( 1 ,2 ,3, 4)\n",
    "\n",
    "print( v3 )"
   ]
  },
  {
   "cell_type": "code",
   "execution_count": 3,
   "metadata": {},
   "outputs": [
    {
     "name": "stdout",
     "output_type": "stream",
     "text": [
      "Color(red=79, green=88, blue=137, alpha=0.8)\n"
     ]
    }
   ],
   "source": [
    "# Returning multiple values from a function\n",
    "\n",
    "from random import randint, random\n",
    "from collections import namedtuple\n",
    "\n",
    "Color = namedtuple( 'Color' , 'red green blue alpha')\n",
    "\n",
    "def random_color():\n",
    "    red = randint(0, 255)\n",
    "    blue = randint(0 , 255)\n",
    "    green = randint(0 , 255)\n",
    "    alpha = round( random() , 2)\n",
    "    \n",
    "    return Color( red, blue, green, alpha )\n",
    "\n",
    "myColor = random_color()\n",
    "print( kmy)"
   ]
  },
  {
   "cell_type": "code",
   "execution_count": 18,
   "metadata": {},
   "outputs": [
    {
     "name": "stdout",
     "output_type": "stream",
     "text": [
      "{'z', 'x', 'y'}\n"
     ]
    }
   ],
   "source": [
    "# Named tuples as alternatives to dictionaries\n",
    "dataDict = dict( x=1, y=2, z=3)\n",
    "\n",
    "# data_dict.keys() is an 'iterable'\n",
    "# NOTE : order on data_dict.keys() is not gaurenteed unless your at python 3.6+\n",
    "Data = namedtuple('Data' , dataDict.keys() )\n",
    "data = Data( 2, 4, 6)\n",
    "\n",
    "data_list = [\n",
    "    {'x' : 1} , {'x': 2 , 'y':2} , { 'x': 3} , { 'z' : 4}\n",
    "]\n",
    "\n",
    "# Use a set for keys. Keys allow for adding of new elements, but ignores duplicates.\n",
    "key_list = set()\n",
    "\n",
    "# Adding keys to the set\n",
    "for d in data_list:\n",
    "    for key in d.keys():\n",
    "        key_list.add(key)\n",
    "\n",
    "# Also adding keys to the set, using a set comprehension\n",
    "keys = { key for dict_ in data_list for key in dict_.keys() }\n",
    "print( keys )"
   ]
  },
  {
   "cell_type": "code",
   "execution_count": 24,
   "metadata": {},
   "outputs": [],
   "source": [
    "Struct = namedtuple('Struct', sorted(key_list) )\n",
    "Struct.__new__.__defaults__ = (None, ) * len( Struct._fields ) # Set all defaults equal to none"
   ]
  },
  {
   "cell_type": "code",
   "execution_count": 25,
   "metadata": {},
   "outputs": [
    {
     "name": "stdout",
     "output_type": "stream",
     "text": [
      "[Struct(x=1, y=None, z=None), Struct(x=2, y=2, z=None), Struct(x=3, y=None, z=None), Struct(x=None, y=None, z=4)]\n"
     ]
    }
   ],
   "source": [
    "tuple_list = []\n",
    "\n",
    "for dict_ in data_list:\n",
    "    tuple_list.append( Struct( **dict_ ) ) # Unpacking by keyword arguments\n",
    "    \n",
    "print( tuple_list )"
   ]
  }
 ],
 "metadata": {
  "kernelspec": {
   "display_name": "Python 3",
   "language": "python",
   "name": "python3"
  },
  "language_info": {
   "codemirror_mode": {
    "name": "ipython",
    "version": 3
   },
   "file_extension": ".py",
   "mimetype": "text/x-python",
   "name": "python",
   "nbconvert_exporter": "python",
   "pygments_lexer": "ipython3",
   "version": "3.7.4"
  }
 },
 "nbformat": 4,
 "nbformat_minor": 4
}
