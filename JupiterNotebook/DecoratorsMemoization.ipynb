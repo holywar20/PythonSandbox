{
 "cells": [
  {
   "cell_type": "code",
   "execution_count": 8,
   "metadata": {},
   "outputs": [
    {
     "name": "stdout",
     "output_type": "stream",
     "text": [
      "Calculating fib  5\n",
      "Calculating fib  4\n",
      "Calculating fib  3\n"
     ]
    },
    {
     "data": {
      "text/plain": [
       "5"
      ]
     },
     "execution_count": 8,
     "metadata": {},
     "output_type": "execute_result"
    }
   ],
   "source": [
    "# Not using a closur\n",
    "class Fib:\n",
    "    def __init__( self ):\n",
    "        self.cache = {\n",
    "            1 : 1 , 2 : 1\n",
    "        }\n",
    "        \n",
    "    def fib( self , n ):\n",
    "        if n not in self.cache:\n",
    "            print(\"Calculating fib \" , n)\n",
    "            self.cache[n] = self.fib(n-1) + self.fib(n-2)\n",
    "        return self.cache[n]\n",
    "                \n",
    "f = Fib()\n",
    "\n",
    "f.fib( 5 )"
   ]
  },
  {
   "cell_type": "code",
   "execution_count": 9,
   "metadata": {},
   "outputs": [
    {
     "name": "stdout",
     "output_type": "stream",
     "text": [
      "Calculating fib  5\n",
      "Calculating fib  4\n",
      "Calculating fib  3\n"
     ]
    },
    {
     "data": {
      "text/plain": [
       "5"
      ]
     },
     "execution_count": 9,
     "metadata": {},
     "output_type": "execute_result"
    }
   ],
   "source": [
    "def fib():\n",
    "    cache = { 1 : 1 , 2 : 1 }\n",
    "    \n",
    "    def calc_fib( n ):\n",
    "        if n not in cache:\n",
    "            print(\"Calculating fib \" , n)\n",
    "            cache[n] = calc_fib(n-1) + calc_fib(n-2)\n",
    "        return cache[n]\n",
    "    return calc_fib\n",
    "\n",
    "fibRunner = fib()\n",
    "fibRunner(5 )"
   ]
  },
  {
   "cell_type": "code",
   "execution_count": 14,
   "metadata": {},
   "outputs": [
    {
     "name": "stdout",
     "output_type": "stream",
     "text": [
      "Calculating fib  5\n",
      "Calculating fib  4\n",
      "Calculating fib  3\n"
     ]
    },
    {
     "data": {
      "text/plain": [
       "5"
      ]
     },
     "execution_count": 14,
     "metadata": {},
     "output_type": "execute_result"
    }
   ],
   "source": [
    "def memoize_fib( fib ):\n",
    "    cache = { 1 : 1 , 2 : 1}\n",
    "    \n",
    "    def inner(n):\n",
    "        if n not in cache:\n",
    "            cache[n] = fib(n)\n",
    "        return cache[n]\n",
    "    return inner\n",
    "\n",
    "@memoize_fib\n",
    "def fib(n):\n",
    "    print(\"Calculating fib \" , n)\n",
    "    return 1 if n < 3 else fib(n-1) + fib(n-2)\n",
    "\n",
    "fib(5)"
   ]
  }
 ],
 "metadata": {
  "kernelspec": {
   "display_name": "Python 3",
   "language": "python",
   "name": "python3"
  },
  "language_info": {
   "codemirror_mode": {
    "name": "ipython",
    "version": 3
   },
   "file_extension": ".py",
   "mimetype": "text/x-python",
   "name": "python",
   "nbconvert_exporter": "python",
   "pygments_lexer": "ipython3",
   "version": "3.7.4"
  }
 },
 "nbformat": 4,
 "nbformat_minor": 4
}
