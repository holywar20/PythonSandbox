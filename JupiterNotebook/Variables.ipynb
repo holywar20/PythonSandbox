{
 "cells": [
  {
   "cell_type": "code",
   "execution_count": 7,
   "metadata": {},
   "outputs": [
    {
     "name": "stdout",
     "output_type": "stream",
     "text": [
      "0x7ffc9d88a2b0\n"
     ]
    }
   ],
   "source": [
    "a = 10\n",
    "print(hex(id(a))) # Get refrence for a variable outside of scope"
   ]
  },
  {
   "cell_type": "code",
   "execution_count": 8,
   "metadata": {},
   "outputs": [
    {
     "data": {
      "text/plain": [
       "148"
      ]
     },
     "execution_count": 8,
     "metadata": {},
     "output_type": "execute_result"
    }
   ],
   "source": [
    "import sys # Getting refrence count\n",
    "\n",
    "sys.getrefcount(a)"
   ]
  },
  {
   "cell_type": "code",
   "execution_count": 10,
   "metadata": {},
   "outputs": [
    {
     "data": {
      "text/plain": [
       "149"
      ]
     },
     "execution_count": 10,
     "metadata": {},
     "output_type": "execute_result"
    }
   ],
   "source": [
    "import ctypes\n",
    "\n",
    "ctypes.c_long.from_address( id(a) ).value"
   ]
  },
  {
   "cell_type": "code",
   "execution_count": 21,
   "metadata": {},
   "outputs": [
    {
     "name": "stdout",
     "output_type": "stream",
     "text": [
      "B: self: 0x176031d39c8 , A: 0x176031cc988\n",
      "A: self: 0x176031cc988 , B: 0x176031d39c8\n"
     ]
    }
   ],
   "source": [
    "# Circular refrences\n",
    "\n",
    "import gc\n",
    "\n",
    "gc.disable()\n",
    "\n",
    "def ref_count(address):\n",
    "    return ctypes.c_long.from_address( address ).value\n",
    "\n",
    "def object_by_id( objectid ):\n",
    "    for obj in gc.get_objects():\n",
    "        if( id(obj) == object_id ):\n",
    "            return \"Object Exists\"\n",
    "    return \"Not Found\"\n",
    "\n",
    "class A:\n",
    "    def __init__(self):\n",
    "        self.b = B(self)\n",
    "        print( \"A: self: {0} , B: {1}\".format( hex(id(self) ) , hex(id(self.b) ) ) )\n",
    "\n",
    "class B:\n",
    "    def __init__(self, a):\n",
    "        self.a = a\n",
    "        print( \"B: self: {0} , A: {1}\".format( hex(id(self) ), hex(id(self.a) ) ) )\n",
    "\n",
    "my_var = A()\n",
    "\n",
    "gc.collect() # Manually activate the garbage collector"
   ]
  },
  {
   "cell_type": "code",
   "execution_count": null,
   "metadata": {},
   "outputs": [],
   "source": []
  }
 ],
 "metadata": {
  "kernelspec": {
   "display_name": "Python 3",
   "language": "python",
   "name": "python3"
  },
  "language_info": {
   "codemirror_mode": {
    "name": "ipython",
    "version": 3
   },
   "file_extension": ".py",
   "mimetype": "text/x-python",
   "name": "python",
   "nbconvert_exporter": "python",
   "pygments_lexer": "ipython3",
   "version": "3.7.4"
  }
 },
 "nbformat": 4,
 "nbformat_minor": 2
}
